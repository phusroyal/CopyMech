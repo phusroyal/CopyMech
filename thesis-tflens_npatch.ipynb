{
 "cells": [
  {
   "cell_type": "code",
   "execution_count": null,
   "metadata": {},
   "outputs": [],
   "source": [
    "import torch, random, numpy as np\n",
    "import time\n",
    "import torch\n",
    "from tqdm import tqdm\n",
    "from collections import defaultdict\n",
    "\n",
    "# Import stuff\n",
    "import torch\n",
    "import torch.nn as nn\n",
    "import einops\n",
    "from fancy_einsum import einsum\n",
    "import tqdm.auto as tqdm\n",
    "\n",
    "from jaxtyping import Float\n",
    "from functools import partial\n",
    "\n",
    "# import transformer_lens\n",
    "import transformer_lens.utils as utils\n",
    "from transformer_lens.hook_points import (\n",
    "    HookPoint,\n",
    ")  # Hooking utilities\n",
    "from transformer_lens import HookedTransformer, FactoredMatrix\n",
    "\n",
    "import torch\n",
    "torch.set_grad_enabled(False)"
   ]
  },
  {
   "cell_type": "code",
   "execution_count": null,
   "metadata": {},
   "outputs": [],
   "source": [
    "import torch\n",
    "from utils import data_loader, misc, n_grams\n",
    "from collections import defaultdict\n",
    "\n",
    "torch.set_grad_enabled(False)\n",
    "misc.seed_everything(555)"
   ]
  },
  {
   "cell_type": "code",
   "execution_count": 6,
   "metadata": {},
   "outputs": [
    {
     "data": {
      "application/vnd.jupyter.widget-view+json": {
       "model_id": "b583be91145b4e37a68e1d7cc57c8d62",
       "version_major": 2,
       "version_minor": 0
      },
      "text/plain": [
       "Loading checkpoint shards:   0%|          | 0/2 [00:00<?, ?it/s]"
      ]
     },
     "metadata": {},
     "output_type": "display_data"
    },
    {
     "name": "stderr",
     "output_type": "stream",
     "text": [
      "WARNING:root:You are not using LayerNorm, so the writing weights can't be centered! Skipping\n"
     ]
    },
    {
     "name": "stdout",
     "output_type": "stream",
     "text": [
      "Loaded pretrained model Qwen/Qwen2.5-3B into HookedTransformer\n"
     ]
    }
   ],
   "source": [
    "# load model and tokenizer\n",
    "from transformer_lens import HookedTransformer\n",
    "model = HookedTransformer.from_pretrained(\"Qwen/Qwen2.5-3B\")\n",
    "num_layers = model.num_layers\n",
    "# tokenizer = Qwen2Tokenizer.from_pretrained(\"Qwen/Qwen2.5-3B\")"
   ]
  },
  {
   "cell_type": "code",
   "execution_count": null,
   "metadata": {},
   "outputs": [],
   "source": [
    "_, _, edited_phrases = data_loader.wiki_loader(num_samples=1e6)"
   ]
  },
  {
   "cell_type": "code",
   "execution_count": null,
   "metadata": {},
   "outputs": [],
   "source": [
    "schemas = {\n",
    "    'swap is/are': data_loader.Scheme(source= 'is',\n",
    "                                         target= 'are').swap_words,\n",
    "    'swap was/were': data_loader.Scheme(source= 'was',\n",
    "                                         target= 'were').swap_words,\n",
    "    'swap a/the': data_loader.Scheme(source= 'a',\n",
    "                                         target= 'the').swap_words,\n",
    "    'drop a': data_loader.Scheme(source= 'a',\n",
    "                                         target= '').drop_words,\n",
    "    'char edit': data_loader.Scheme().char_edit,\n",
    "}"
   ]
  },
  {
   "cell_type": "markdown",
   "metadata": {},
   "source": [
    "# Plot on Turning Points"
   ]
  },
  {
   "cell_type": "code",
   "execution_count": 9,
   "metadata": {},
   "outputs": [
    {
     "name": "stdout",
     "output_type": "stream",
     "text": [
      "n-gram:  5\n",
      "Skip layers:  5\n"
     ]
    },
    {
     "name": "stderr",
     "output_type": "stream",
     "text": [
      " 33%|███▎      | 1645/5000 [00:15<00:32, 103.16it/s]\n"
     ]
    },
    {
     "name": "stdout",
     "output_type": "stream",
     "text": [
      "Avg jaccard similarity:  0.9257475894972683\n",
      "Avg accuracy 2:  0.99\n",
      "Avg accuracy 3:  0.99\n",
      "#Sample:  100\n",
      "#Unsolvable:  68\n",
      "-----------------------------------\n",
      "n-gram:  5\n",
      "Skip layers:  10\n"
     ]
    },
    {
     "name": "stderr",
     "output_type": "stream",
     "text": [
      " 33%|███▎      | 1645/5000 [00:16<00:32, 102.03it/s]\n"
     ]
    },
    {
     "name": "stdout",
     "output_type": "stream",
     "text": [
      "Avg jaccard similarity:  0.7713088509024412\n",
      "Avg accuracy 2:  0.85\n",
      "Avg accuracy 3:  0.85\n",
      "#Sample:  100\n",
      "#Unsolvable:  68\n",
      "-----------------------------------\n",
      "n-gram:  5\n",
      "Skip layers:  15\n"
     ]
    },
    {
     "name": "stderr",
     "output_type": "stream",
     "text": [
      " 33%|███▎      | 1645/5000 [00:16<00:33, 101.66it/s]\n"
     ]
    },
    {
     "name": "stdout",
     "output_type": "stream",
     "text": [
      "Avg jaccard similarity:  0.7326379253357003\n",
      "Avg accuracy 2:  0.78\n",
      "Avg accuracy 3:  0.78\n",
      "#Sample:  100\n",
      "#Unsolvable:  68\n",
      "-----------------------------------\n",
      "n-gram:  5\n",
      "Skip layers:  20\n"
     ]
    },
    {
     "name": "stderr",
     "output_type": "stream",
     "text": [
      " 33%|███▎      | 1645/5000 [00:16<00:33, 100.77it/s]\n"
     ]
    },
    {
     "name": "stdout",
     "output_type": "stream",
     "text": [
      "Avg jaccard similarity:  0.5945935841776019\n",
      "Avg accuracy 2:  0.6\n",
      "Avg accuracy 3:  0.6\n",
      "#Sample:  100\n",
      "#Unsolvable:  68\n",
      "-----------------------------------\n",
      "n-gram:  5\n",
      "Skip layers:  25\n"
     ]
    },
    {
     "name": "stderr",
     "output_type": "stream",
     "text": [
      " 33%|███▎      | 1645/5000 [00:16<00:33, 100.76it/s]\n"
     ]
    },
    {
     "name": "stdout",
     "output_type": "stream",
     "text": [
      "Avg jaccard similarity:  0.4289353184727608\n",
      "Avg accuracy 2:  0.82\n",
      "Avg accuracy 3:  0.82\n",
      "#Sample:  100\n",
      "#Unsolvable:  68\n",
      "-----------------------------------\n",
      "n-gram:  5\n",
      "Skip layers:  30\n"
     ]
    },
    {
     "name": "stderr",
     "output_type": "stream",
     "text": [
      " 33%|███▎      | 1645/5000 [00:16<00:33, 99.93it/s] "
     ]
    },
    {
     "name": "stdout",
     "output_type": "stream",
     "text": [
      "Avg jaccard similarity:  0.35915733991169113\n",
      "Avg accuracy 2:  0.74\n",
      "Avg accuracy 3:  0.74\n",
      "#Sample:  100\n",
      "#Unsolvable:  68\n",
      "-----------------------------------\n"
     ]
    },
    {
     "name": "stderr",
     "output_type": "stream",
     "text": [
      "\n"
     ]
    }
   ],
   "source": [
    "info_lst = defaultdict(list)\n",
    "for schema_name, schema in schemas.item():\n",
    "    for skip in range(num_layers):\n",
    "        skip += 1\n",
    "        if schema_name == 'char edit':\n",
    "            outputs = n_grams.ngram_char_edits(model= model,\n",
    "                                            skip_up_to= skip,\n",
    "                                            edited_phrases= edited_phrases,)\n",
    "        else:\n",
    "            outputs = n_grams.ngram(model= model,\n",
    "                                    skip_up_to= skip,\n",
    "                                    edited_phrases= edited_phrases,)\n",
    "        info_lst[schema_name].append(outputs)\n",
    "        break"
   ]
  },
  {
   "cell_type": "code",
   "execution_count": null,
   "metadata": {},
   "outputs": [
    {
     "data": {
      "image/png": "[encoded data removed]",
      "text/plain": [
       "<Figure size 800x500 with 1 Axes>"
      ]
     },
     "metadata": {},
     "output_type": "display_data"
    }
   ],
   "source": [
    "skip_layers = skip_up_to\n",
    "\n",
    "plot_skip_layer_metrics(skip_layers, acc, jcc, model_name=\"Qwen2.5-3B\", schema=\"Three-Word Patching on Turning Point\")"
   ]
  },
  {
   "cell_type": "markdown",
   "metadata": {},
   "source": [
    "# Plot Not the Turning Points"
   ]
  },
  {
   "cell_type": "code",
   "execution_count": 8,
   "metadata": {},
   "outputs": [],
   "source": [
    "def ngram(n, model, skip_up_to, max_steps, extra_steps, k, edited_phrases):\n",
    "\n",
    "    print(\"n-gram: \", n)\n",
    "    print(\"Skip layers: \", skip_up_to)\n",
    "\n",
    "    info_lst = []\n",
    "    # failed_lst = []\n",
    "\n",
    "    total_failed_by_prepocess = 0\n",
    "    # total_failed_as_ulsolvable = 0\n",
    "    total_solvable_og = 0\n",
    "    total_unsolvable = 0\n",
    "    total_matches = []\n",
    "\n",
    "    num_matched = 0\n",
    "    # total_steps = 0\n",
    "\n",
    "    for edited in tqdm(edited_phrases):\n",
    "\n",
    "        if total_solvable_og == 100:\n",
    "            break\n",
    "\n",
    "        if not has_required_spaces(edited, num_context = 10):\n",
    "            continue\n",
    "\n",
    "        # preprocess text\n",
    "        edited = text_preprocess(edited)\n",
    "        if edited is None:\n",
    "            total_failed_by_prepocess += 1\n",
    "            continue\n",
    "\n",
    "        corrupted_text, pre_isare, correct_tobe = edited\n",
    "        prompt = f\"Please fix grammar of the following text: '{corrupted_text}'. The correct text is: {pre_isare}\"\n",
    "\n",
    "        dict_pred_info = defaultdict(dict)\n",
    "\n",
    "        steps = 1\n",
    "        for step_i in range(steps):\n",
    "            # print(prompt)\n",
    "\n",
    "            if step_i != 0:\n",
    "                # Prompt: A B C D is .... A B C D [are]\n",
    "                prompt_tokens = model.to_tokens(prompt, prepend_bos=False)\n",
    "            else:\n",
    "                prompt_tokens = model.to_tokens(prompt)\n",
    "\n",
    "            # print('og prompt: ', prompt_tokens)\n",
    "\n",
    "            # As we does not need on the turning point, we can skip the last tokens\n",
    "            # Prompt: A B C D is .... A B C [D]\n",
    "            # Get the last token of the prompt as the token to predict\n",
    "            next_token_ref = prompt_tokens[:, -1]\n",
    "            prompt_tokens = prompt_tokens[:, :-1]      \n",
    "\n",
    "            # run on the prompt once with cache to store activations to patch in later\n",
    "            og_logits, og_cache = model.run_with_cache(prompt_tokens)\n",
    "            # get the top k tokens\n",
    "            og_topk_indices = get_top_k(og_logits, k)\n",
    "            # get the highest prob token\n",
    "            og_next_token = torch.tensor([og_topk_indices[0]]).unsqueeze(0).to(og_logits.device)\n",
    "\n",
    "            # # append the token to the sequence\n",
    "            # prompt_tokens = torch.cat([prompt_tokens, og_next_token], dim=1)\n",
    "            # print('generated: ', prompt_tokens)\n",
    "            # # deocde the token\n",
    "            # prompt = model.to_string(prompt_tokens)[0]\n",
    "            # print('OG:', prompt)            \n",
    "\n",
    "            # check if model can solve the task (now, D should be predicted, aka next_token_ref)\n",
    "            if torch.equal(og_next_token[0], next_token_ref):\n",
    "                total_solvable_og += 1\n",
    "            else:\n",
    "                total_unsolvable += 1\n",
    "                continue\n",
    "\n",
    "            # detect copy scenario\n",
    "            # Prompt: A B C D is .... A B C [D]\n",
    "            t_matched_1st, _ = detect_ngram_copy(prompt_tokens, n=n)\n",
    "            t_matched_2nd, _ = detect_ngram_copy(prompt_tokens[:,:-1], n=n)\n",
    "            t_matched_3nd, _ = detect_ngram_copy(prompt_tokens[:,:-2], n=n)\n",
    "            \n",
    "            if t_matched_1st is not None and t_matched_2nd and t_matched_3nd is not None:\n",
    "                pos_matched = [t_matched_1st, t_matched_2nd, t_matched_3nd]\n",
    "                pos_current = [len(prompt_tokens[0])-1, len(prompt_tokens[0])-2, len(prompt_tokens[0])-3]\n",
    "                \n",
    "                num_matched += 1\n",
    "\n",
    "                def residual_stream_patching_hook(\n",
    "                    resid_pre: Float[torch.Tensor, \"batch pos d_model\"],\n",
    "                    hook: HookPoint,\n",
    "                    pos_matched: list,\n",
    "                    pos_current: list\n",
    "                ) -> Float[torch.Tensor, \"batch pos d_model\"]:\n",
    "                    # Each HookPoint has a name attribute giving the name of the hook.\n",
    "                    clean_resid_pre = og_cache[hook.name]\n",
    "                    resid_pre[:, pos_current, :] = clean_resid_pre[:, pos_matched, :]\n",
    "                    return resid_pre\n",
    "                \n",
    "                # Use functools.partial to create a temporary hook function with the position fixed\n",
    "                temp_hook_fn = partial(residual_stream_patching_hook, pos_matched=pos_matched, pos_current=pos_current)\n",
    "                # Run the model with the patching hook\n",
    "                patched_logits = model.run_with_hooks(prompt_tokens, fwd_hooks=[\n",
    "                    (utils.get_act_name(\"resid_pre\", skip_up_to), temp_hook_fn)\n",
    "                ])\n",
    "\n",
    "                # def v_patching_hook(\n",
    "                #     resid_pre: Float[torch.Tensor, \"batch pos head_index d_head\"],\n",
    "                #     hook: HookPoint,\n",
    "                #     position: int\n",
    "                # ) -> Float[torch.Tensor, \"batch pos head_index d_head\"]:\n",
    "                #     # Each HookPoint has a name attribute giving the name of the hook.\n",
    "                #     clean_resid_pre = og_cache[hook.name]\n",
    "                #     resid_pre[:, -1, :, :] = clean_resid_pre[:, position, :, :]\n",
    "                #     return resid_pre\n",
    "                \n",
    "                # for layer in range(skip_up_to):\n",
    "                #     # Use functools.partial to create a temporary hook function with the position fixed\n",
    "                #     temp_hook_fn = partial(v_patching_hook, position=t_matched)\n",
    "                #     # Run the model with the patching hook\n",
    "                #     patched_logits = model.run_with_hooks(prompt_tokens, fwd_hooks=[\n",
    "                #         (utils.get_act_name(\"v\", layer), temp_hook_fn)\n",
    "                #     ])\n",
    "                \n",
    "                pt_topk_indices = get_top_k(patched_logits, k)\n",
    "                # get the highest prob token\n",
    "                pt_next_token = torch.tensor([pt_topk_indices[0]]).unsqueeze(0).to(og_logits.device)\n",
    "\n",
    "                # check if model can solve the task\n",
    "                if torch.equal(next_token_ref, pt_next_token[0]):\n",
    "                    total_matches.append(1)\n",
    "                else:\n",
    "                    total_matches.append(0)\n",
    "\n",
    "                # # append the token to the sequence\n",
    "                # pt_prompt_tokens = torch.cat([prompt_tokens, pt_next_token], dim=1)\n",
    "                # # deocde the token\n",
    "                # pt_prompt = model.to_string(pt_prompt_tokens)[0]      \n",
    "                # print('PT:\\n')\n",
    "                # print(pt_prompt)\n",
    "\n",
    "                dict_pred_info[step_i]['original'] = og_topk_indices\n",
    "                dict_pred_info[step_i]['copy'] = get_top_k(patched_logits, k)\n",
    "            else:\n",
    "                # not enough context for cp\n",
    "                total_solvable_og -= 1\n",
    "\n",
    "            # # append the token to the sequence\n",
    "            # prompt_tokens = torch.cat([prompt_tokens, og_next_token], dim=1)\n",
    "            # # deocde the token\n",
    "            # prompt = model.to_string(prompt_tokens)[0]\n",
    "            # print('OG:\\n')\n",
    "            # print(prompt)\n",
    "            # print(\"Avg accuracy: \", total_solvable_pt / total_solvable_og)\n",
    "            # a\n",
    "\n",
    "        info_lst.append(dict_pred_info)\n",
    "        \n",
    "    jcc, acc = get_acc(info_lst)\n",
    "    print(\"Avg jaccard similarity: \", jcc)\n",
    "    print(\"Avg accuracy 2: \", acc)\n",
    "    print(\"Avg accuracy 3: \", sum(total_matches) / len(total_matches))\n",
    "    print(\"#Sample: \", len(total_matches))\n",
    "    print('#Unsolvable: ', total_unsolvable)\n",
    "    return jcc, acc, sum(total_matches) / len(total_matches)"
   ]
  },
  {
   "cell_type": "code",
   "execution_count": 9,
   "metadata": {},
   "outputs": [
    {
     "name": "stdout",
     "output_type": "stream",
     "text": [
      "n-gram:  5\n",
      "Skip layers:  5\n"
     ]
    },
    {
     "name": "stderr",
     "output_type": "stream",
     "text": [
      "  0%|          | 0/5000 [00:00<?, ?it/s]"
     ]
    },
    {
     "name": "stderr",
     "output_type": "stream",
     "text": [
      " 19%|█▉        | 953/5000 [00:11<00:50, 80.11it/s] \n"
     ]
    },
    {
     "name": "stdout",
     "output_type": "stream",
     "text": [
      "Avg jaccard similarity:  0.9157206814232863\n",
      "Avg accuracy 2:  0.99\n",
      "Avg accuracy 3:  0.99\n",
      "#Sample:  100\n",
      "#Unsolvable:  2\n",
      "-----------------------------------\n",
      "n-gram:  5\n",
      "Skip layers:  10\n"
     ]
    },
    {
     "name": "stderr",
     "output_type": "stream",
     "text": [
      " 19%|█▉        | 953/5000 [00:11<00:50, 79.87it/s] \n"
     ]
    },
    {
     "name": "stdout",
     "output_type": "stream",
     "text": [
      "Avg jaccard similarity:  0.7497431581597863\n",
      "Avg accuracy 2:  0.99\n",
      "Avg accuracy 3:  0.99\n",
      "#Sample:  100\n",
      "#Unsolvable:  2\n",
      "-----------------------------------\n",
      "n-gram:  5\n",
      "Skip layers:  15\n"
     ]
    },
    {
     "name": "stderr",
     "output_type": "stream",
     "text": [
      " 19%|█▉        | 953/5000 [00:11<00:50, 79.67it/s] \n"
     ]
    },
    {
     "name": "stdout",
     "output_type": "stream",
     "text": [
      "Avg jaccard similarity:  0.6844525524165397\n",
      "Avg accuracy 2:  0.99\n",
      "Avg accuracy 3:  0.99\n",
      "#Sample:  100\n",
      "#Unsolvable:  2\n",
      "-----------------------------------\n",
      "n-gram:  5\n",
      "Skip layers:  20\n"
     ]
    },
    {
     "name": "stderr",
     "output_type": "stream",
     "text": [
      " 19%|█▉        | 953/5000 [00:12<00:51, 79.03it/s] \n"
     ]
    },
    {
     "name": "stdout",
     "output_type": "stream",
     "text": [
      "Avg jaccard similarity:  0.5380332789814387\n",
      "Avg accuracy 2:  0.99\n",
      "Avg accuracy 3:  0.99\n",
      "#Sample:  100\n",
      "#Unsolvable:  2\n",
      "-----------------------------------\n",
      "n-gram:  5\n",
      "Skip layers:  25\n"
     ]
    },
    {
     "name": "stderr",
     "output_type": "stream",
     "text": [
      " 19%|█▉        | 953/5000 [00:12<00:51, 79.20it/s] \n"
     ]
    },
    {
     "name": "stdout",
     "output_type": "stream",
     "text": [
      "Avg jaccard similarity:  0.3917723367860723\n",
      "Avg accuracy 2:  0.82\n",
      "Avg accuracy 3:  0.82\n",
      "#Sample:  100\n",
      "#Unsolvable:  2\n",
      "-----------------------------------\n",
      "n-gram:  5\n",
      "Skip layers:  30\n"
     ]
    },
    {
     "name": "stderr",
     "output_type": "stream",
     "text": [
      " 19%|█▉        | 953/5000 [00:12<00:51, 78.55it/s] "
     ]
    },
    {
     "name": "stdout",
     "output_type": "stream",
     "text": [
      "Avg jaccard similarity:  0.336666002352064\n",
      "Avg accuracy 2:  0.66\n",
      "Avg accuracy 3:  0.66\n",
      "#Sample:  100\n",
      "#Unsolvable:  2\n",
      "-----------------------------------\n"
     ]
    },
    {
     "name": "stderr",
     "output_type": "stream",
     "text": [
      "\n"
     ]
    }
   ],
   "source": [
    "seed = 5\n",
    "extra_steps = 5\n",
    "max_steps = 1024\n",
    "k=100\n",
    "seed_everything(seed)\n",
    "\n",
    "jcc = []\n",
    "acc = []\n",
    "\n",
    "ns = [5]\n",
    "skip_up_to = [5, 10, 15, 20, 25, 30]\n",
    "# skip_up_to = [5,6,7,8,9,10]\n",
    "info_lst = {}\n",
    "for n in ns:\n",
    "    info_lst[n] = {}\n",
    "    for skip in skip_up_to:\n",
    "        info_lst[n][skip] = {}\n",
    "        outputs = ngram(n, model, skip, max_steps, extra_steps, k, edited_sents)\n",
    "        jcc.append(outputs[0])\n",
    "        acc.append(outputs[1])\n",
    "        print(\"-----------------------------------\")"
   ]
  },
  {
   "cell_type": "code",
   "execution_count": 10,
   "metadata": {},
   "outputs": [
    {
     "data": {
      "image/png": "[encoded data removed]",
      "text/plain": [
       "<Figure size 800x500 with 1 Axes>"
      ]
     },
     "metadata": {},
     "output_type": "display_data"
    }
   ],
   "source": [
    "skip_layers = skip_up_to\n",
    "\n",
    "plot_skip_layer_metrics(skip_layers, acc, jcc, model_name=\"Qwen2.5-3B\", schema=\"Three-Word Patching on Copy Tokens\")"
   ]
  },
  {
   "cell_type": "markdown",
   "metadata": {},
   "source": [
    "# Plot on Dif Context"
   ]
  },
  {
   "cell_type": "code",
   "execution_count": 16,
   "metadata": {},
   "outputs": [
    {
     "data": {
      "text/plain": [
       "1904"
      ]
     },
     "execution_count": 16,
     "metadata": {},
     "output_type": "execute_result"
    }
   ],
   "source": [
    "from datasets import load_from_disk\n",
    "from tqdm import tqdm\n",
    "\n",
    "# Load the dataset from disk\n",
    "num_samples = 10000\n",
    "subset = load_from_disk(\"/home/longnhat/workspace_phu/CopyMech/english_insertions\")\n",
    "prompt_list = []\n",
    "\n",
    "base_sents = subset['train']['base_sentence'][:num_samples]\n",
    "phrases = subset['train']['phrase'][:num_samples]\n",
    "edited_sents = subset['train']['edited_sentence'][:num_samples]\n",
    "\n",
    "import gc\n",
    "del subset\n",
    "gc.collect()"
   ]
  },
  {
   "cell_type": "code",
   "execution_count": 13,
   "metadata": {},
   "outputs": [
    {
     "name": "stdout",
     "output_type": "stream",
     "text": [
      "Output: 4\n"
     ]
    }
   ],
   "source": [
    "import torch\n",
    "\n",
    "def find_dif_pos(tensor: torch.Tensor, pos: int) -> int:\n",
    "    \"\"\"\n",
    "    Given a tensor of shape (1, n) and an index pos, returns the index\n",
    "    of the last occurrence (before the final element) of the tensor's final value,\n",
    "    ensuring that the found index is different from pos.\n",
    "    \n",
    "    Example:\n",
    "      tensor = [[31, 11, 22, 551, 11, 223, 42, 11]]\n",
    "      pos = 1\n",
    "      The final value is 11. The occurrences of 11 (excluding the last element) \n",
    "      are at positions 1 and 4. Since pos=1, we choose 4.\n",
    "      \n",
    "      Returns: 4\n",
    "    \"\"\"\n",
    "    if pos is None:\n",
    "        return None\n",
    "    # Convert tensor to a 1D list (we assume tensor is of shape (1, n))\n",
    "    row = tensor[0]\n",
    "    final_val = row[-1].item()\n",
    "    \n",
    "    # Scan from the second-to-last element backwards\n",
    "    for i in range(len(row) - 2, -1, -1):\n",
    "        if row[i].item() == final_val and i != pos:\n",
    "            return i\n",
    "    return None  # or raise an error if not found\n",
    "\n",
    "# Test example:\n",
    "tensor = torch.tensor([[31, 11, 22, 551, 11, 223, 42, 11]])\n",
    "pos = 1\n",
    "output = find_dif_pos(tensor, pos)\n",
    "print(\"Output:\", output)  # Expected output: 4\n"
   ]
  },
  {
   "cell_type": "code",
   "execution_count": 11,
   "metadata": {},
   "outputs": [],
   "source": [
    "def ngram(n, model, skip_up_to, max_steps, extra_steps, k, edited_phrases):\n",
    "\n",
    "    print(\"n-gram: \", n)\n",
    "    print(\"Skip layers: \", skip_up_to)\n",
    "\n",
    "    info_lst = []\n",
    "    failed_lst = []\n",
    "\n",
    "    total_failed_by_prepocess = 0\n",
    "    # total_failed_as_ulsolvable = 0\n",
    "    total_solvable_og = 0\n",
    "    total_unsolvable = 0\n",
    "    total_matches = []\n",
    "\n",
    "    num_matched = 0\n",
    "    # total_steps = 0\n",
    "\n",
    "    for edited in tqdm(edited_phrases):\n",
    "\n",
    "        if total_solvable_og == 100:\n",
    "            break\n",
    "\n",
    "        if not has_required_spaces(edited, num_context = 10):\n",
    "            continue\n",
    "\n",
    "        # preprocess text\n",
    "        edited = text_preprocess(edited)\n",
    "        if edited is None:\n",
    "            total_failed_by_prepocess += 1\n",
    "            continue\n",
    "        corrupted_text, pre_isare, correct_tobe = edited\n",
    "        prompt = f\"Please fix grammar of the following text: '{corrupted_text}'. The correct text is: {pre_isare}\"\n",
    "\n",
    "        # edited_ids = tokenizer.encode(edited, return_tensors='pt')\n",
    "        # steps = extra_steps + edited_ids.size(1)\n",
    "        # if steps > max_steps:\n",
    "        #     steps = max_steps\n",
    "        # total_steps += steps\n",
    "        steps = 1\n",
    "\n",
    "        dict_pred_info = defaultdict(dict)\n",
    "\n",
    "        for step_i in range(steps):\n",
    "            if step_i != 0:\n",
    "                prompt_tokens = model.to_tokens(prompt, prepend_bos=False)\n",
    "            else:\n",
    "                prompt_tokens = model.to_tokens(prompt)\n",
    "\n",
    "            _t_matched, _ = detect_ngram_copy(prompt_tokens, n=n, skip_up_to=skip_up_to)\n",
    "            t_matched_1st = find_dif_pos(prompt_tokens, _t_matched)\n",
    "            _t_matched, _ = detect_ngram_copy(prompt_tokens[:,:-1], n=n, skip_up_to=skip_up_to)\n",
    "            t_matched_2nd = find_dif_pos(prompt_tokens[:,:-1], _t_matched)\n",
    "            _t_matched, _ = detect_ngram_copy(prompt_tokens[:,:-2], n=n, skip_up_to=skip_up_to)\n",
    "            t_matched_3rd = find_dif_pos(prompt_tokens[:,:-2], _t_matched)\n",
    "            \n",
    "            # detect copy scenario\n",
    "            if t_matched_1st is not None and t_matched_2nd is not None and t_matched_3rd is not None:\n",
    "                pos_matched = [t_matched_1st, t_matched_2nd, t_matched_3rd]\n",
    "                pos_current = [len(prompt_tokens[0])-1, len(prompt_tokens[0])-2, len(prompt_tokens[0])-3]\n",
    "                \n",
    "                # run on the prompt once with cache to store activations to patch in later\n",
    "                og_logits, og_cache = model.run_with_cache(prompt_tokens)\n",
    "                # get the top k tokens\n",
    "                og_topk_indices = get_top_k(og_logits, k)\n",
    "                # get the highest prob token\n",
    "                og_next_token = torch.tensor([og_topk_indices[0]]).unsqueeze(0).to(og_logits.device)\n",
    "\n",
    "                # check if model can solve the task\n",
    "                decoded_og_next_token = model.to_string(og_next_token)[0]\n",
    "                if 'are' in decoded_og_next_token and correct_tobe == 'are':\n",
    "                    total_solvable_og += 1\n",
    "                elif 'is' in decoded_og_next_token and correct_tobe == 'is':\n",
    "                    total_solvable_og += 1\n",
    "                else:\n",
    "                    total_unsolvable += 1\n",
    "                    continue\n",
    "            \n",
    "                # num_matched += 1\n",
    "\n",
    "                def residual_stream_patching_hook(\n",
    "                    resid_pre: Float[torch.Tensor, \"batch pos d_model\"],\n",
    "                    hook: HookPoint,\n",
    "                    pos_matched: list,\n",
    "                    pos_current: list\n",
    "                ) -> Float[torch.Tensor, \"batch pos d_model\"]:\n",
    "                    # Each HookPoint has a name attribute giving the name of the hook.\n",
    "                    clean_resid_pre = og_cache[hook.name]\n",
    "                    resid_pre[:, pos_current, :] = clean_resid_pre[:, pos_matched, :]\n",
    "                    return resid_pre\n",
    "                \n",
    "                # Use functools.partial to create a temporary hook function with the position fixed\n",
    "                temp_hook_fn = partial(residual_stream_patching_hook, pos_matched=pos_matched, pos_current=pos_current)\n",
    "                # Run the model with the patching hook\n",
    "                patched_logits = model.run_with_hooks(prompt_tokens, fwd_hooks=[\n",
    "                    (utils.get_act_name(\"resid_pre\", skip_up_to), temp_hook_fn)\n",
    "                ])\n",
    "\n",
    "                # def v_patching_hook(\n",
    "                #     resid_pre: Float[torch.Tensor, \"batch pos head_index d_head\"],\n",
    "                #     hook: HookPoint,\n",
    "                #     position: int\n",
    "                # ) -> Float[torch.Tensor, \"batch pos head_index d_head\"]:\n",
    "                #     # Each HookPoint has a name attribute giving the name of the hook.\n",
    "                #     clean_resid_pre = og_cache[hook.name]\n",
    "                #     resid_pre[:, -1, :, :] = clean_resid_pre[:, position, :, :]\n",
    "                #     return resid_pre\n",
    "                \n",
    "                # for layer in range(skip_up_to):\n",
    "                #     # Use functools.partial to create a temporary hook function with the position fixed\n",
    "                #     temp_hook_fn = partial(v_patching_hook, position=t_matched)\n",
    "                #     # Run the model with the patching hook\n",
    "                #     patched_logits = model.run_with_hooks(prompt_tokens, fwd_hooks=[\n",
    "                #         (utils.get_act_name(\"v\", layer), temp_hook_fn)\n",
    "                #     ])\n",
    "                \n",
    "                pt_topk_indices = get_top_k(patched_logits, k)\n",
    "                # get the highest prob token\n",
    "                pt_next_token = torch.tensor([pt_topk_indices[0]]).unsqueeze(0).to(og_logits.device)\n",
    "\n",
    "                if torch.equal(og_next_token, pt_next_token):\n",
    "                    total_matches.append(1)\n",
    "                else:\n",
    "                    total_matches.append(0)\n",
    "\n",
    "                # # append the token to the sequence\n",
    "                # pt_prompt_tokens = torch.cat([prompt_tokens, pt_next_token], dim=1)\n",
    "                # # deocde the token\n",
    "                # pt_prompt = model.to_string(pt_prompt_tokens)[0]      \n",
    "                # print('PT:\\n')\n",
    "                # print(pt_prompt)\n",
    "\n",
    "                dict_pred_info[step_i]['original'] = og_topk_indices\n",
    "                dict_pred_info[step_i]['copy'] = get_top_k(patched_logits, k)\n",
    "            else:\n",
    "                total_solvable_og -= 1\n",
    "\n",
    "        info_lst.append(dict_pred_info)\n",
    "        \n",
    "    jcc, acc = get_acc(info_lst)\n",
    "    print(\"Avg jaccard similarity: \", jcc)\n",
    "    print(\"Avg accuracy 2: \", acc)\n",
    "    print(\"Avg accuracy 3: \", sum(total_matches) / len(total_matches))\n",
    "    print(\"#Sample: \", len(total_matches))\n",
    "    print('#Unsolvable: ', total_unsolvable)\n",
    "    return jcc, acc, sum(total_matches) / len(total_matches)"
   ]
  },
  {
   "cell_type": "code",
   "execution_count": 17,
   "metadata": {},
   "outputs": [
    {
     "name": "stdout",
     "output_type": "stream",
     "text": [
      "n-gram:  5\n",
      "Skip layers:  5\n"
     ]
    },
    {
     "name": "stderr",
     "output_type": "stream",
     "text": [
      "100%|██████████| 10000/10000 [00:05<00:00, 1852.64it/s]\n"
     ]
    },
    {
     "name": "stdout",
     "output_type": "stream",
     "text": [
      "Avg jaccard similarity:  0.7625872389284549\n",
      "Avg accuracy 2:  0.8235294117647058\n",
      "Avg accuracy 3:  0.8235294117647058\n",
      "#Sample:  17\n",
      "#Unsolvable:  29\n",
      "-----------------------------------\n",
      "n-gram:  5\n",
      "Skip layers:  10\n"
     ]
    },
    {
     "name": "stderr",
     "output_type": "stream",
     "text": [
      "100%|██████████| 10000/10000 [00:05<00:00, 1871.98it/s]\n"
     ]
    },
    {
     "name": "stdout",
     "output_type": "stream",
     "text": [
      "Avg jaccard similarity:  0.6762974363316185\n",
      "Avg accuracy 2:  0.5882352941176471\n",
      "Avg accuracy 3:  0.5882352941176471\n",
      "#Sample:  17\n",
      "#Unsolvable:  29\n",
      "-----------------------------------\n",
      "n-gram:  5\n",
      "Skip layers:  15\n"
     ]
    },
    {
     "name": "stderr",
     "output_type": "stream",
     "text": [
      "100%|██████████| 10000/10000 [00:05<00:00, 1870.77it/s]\n"
     ]
    },
    {
     "name": "stdout",
     "output_type": "stream",
     "text": [
      "Avg jaccard similarity:  0.5674957294770681\n",
      "Avg accuracy 2:  0.47058823529411764\n",
      "Avg accuracy 3:  0.47058823529411764\n",
      "#Sample:  17\n",
      "#Unsolvable:  29\n",
      "-----------------------------------\n",
      "n-gram:  5\n",
      "Skip layers:  20\n"
     ]
    },
    {
     "name": "stderr",
     "output_type": "stream",
     "text": [
      "100%|██████████| 10000/10000 [00:05<00:00, 1833.93it/s]\n"
     ]
    },
    {
     "name": "stdout",
     "output_type": "stream",
     "text": [
      "Avg jaccard similarity:  0.4060673840537828\n",
      "Avg accuracy 2:  0.35294117647058826\n",
      "Avg accuracy 3:  0.35294117647058826\n",
      "#Sample:  17\n",
      "#Unsolvable:  29\n",
      "-----------------------------------\n",
      "n-gram:  5\n",
      "Skip layers:  25\n"
     ]
    },
    {
     "name": "stderr",
     "output_type": "stream",
     "text": [
      "100%|██████████| 10000/10000 [00:05<00:00, 1864.23it/s]\n"
     ]
    },
    {
     "name": "stdout",
     "output_type": "stream",
     "text": [
      "Avg jaccard similarity:  0.30004632633136946\n",
      "Avg accuracy 2:  0.17647058823529413\n",
      "Avg accuracy 3:  0.17647058823529413\n",
      "#Sample:  17\n",
      "#Unsolvable:  29\n",
      "-----------------------------------\n",
      "n-gram:  5\n",
      "Skip layers:  30\n"
     ]
    },
    {
     "name": "stderr",
     "output_type": "stream",
     "text": [
      "100%|██████████| 10000/10000 [00:05<00:00, 1853.27it/s]"
     ]
    },
    {
     "name": "stdout",
     "output_type": "stream",
     "text": [
      "Avg jaccard similarity:  0.21065321689508873\n",
      "Avg accuracy 2:  0.0\n",
      "Avg accuracy 3:  0.0\n",
      "#Sample:  17\n",
      "#Unsolvable:  29\n",
      "-----------------------------------\n"
     ]
    },
    {
     "name": "stderr",
     "output_type": "stream",
     "text": [
      "\n"
     ]
    }
   ],
   "source": [
    "seed = 5\n",
    "extra_steps = 5\n",
    "max_steps = 1024\n",
    "k=100\n",
    "seed_everything(seed)\n",
    "\n",
    "jcc = []\n",
    "acc = []\n",
    "\n",
    "ns = [5]\n",
    "skip_up_to = [5, 10, 15, 20, 25, 30]\n",
    "# skip_up_to = [5,6,7,8,9,10]\n",
    "info_lst = {}\n",
    "for n in ns:\n",
    "    info_lst[n] = {}\n",
    "    for skip in skip_up_to:\n",
    "        info_lst[n][skip] = {}\n",
    "        outputs = ngram(n, model, skip, max_steps, extra_steps, k, edited_sents)\n",
    "        jcc.append(outputs[0])\n",
    "        acc.append(outputs[1])\n",
    "        print(\"-----------------------------------\")"
   ]
  },
  {
   "cell_type": "code",
   "execution_count": 19,
   "metadata": {},
   "outputs": [
    {
     "data": {
      "image/png": "[encoded data removed]",
      "text/plain": [
       "<Figure size 800x500 with 1 Axes>"
      ]
     },
     "metadata": {},
     "output_type": "display_data"
    }
   ],
   "source": [
    "skip_layers = skip_up_to\n",
    "\n",
    "plot_skip_layer_metrics(skip_layers, acc, jcc, model_name=\"Qwen2.5-3B\", schema=\"Three-Word Patching on Different Context\")"
   ]
  },
  {
   "cell_type": "code",
   "execution_count": null,
   "metadata": {},
   "outputs": [],
   "source": []
  }
 ],
 "metadata": {
  "kernelspec": {
   "display_name": "icl_mi",
   "language": "python",
   "name": "python3"
  },
  "language_info": {
   "codemirror_mode": {
    "name": "ipython",
    "version": 3
   },
   "file_extension": ".py",
   "mimetype": "text/x-python",
   "name": "python",
   "nbconvert_exporter": "python",
   "pygments_lexer": "ipython3",
   "version": "3.10.16"
  }
 },
 "nbformat": 4,
 "nbformat_minor": 2
}
