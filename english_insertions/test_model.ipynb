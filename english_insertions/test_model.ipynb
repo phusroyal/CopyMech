{
 "cells": [
  {
   "cell_type": "code",
   "execution_count": 1,
   "metadata": {},
   "outputs": [
    {
     "name": "stderr",
     "output_type": "stream",
     "text": [
      "/home/longnhat/miniconda3/envs/icl_mi/lib/python3.10/site-packages/tqdm/auto.py:21: TqdmWarning: IProgress not found. Please update jupyter and ipywidgets. See https://ipywidgets.readthedocs.io/en/stable/user_install.html\n",
      "  from .autonotebook import tqdm as notebook_tqdm\n"
     ]
    },
    {
     "data": {
      "text/plain": [
       "0"
      ]
     },
     "execution_count": 1,
     "metadata": {},
     "output_type": "execute_result"
    }
   ],
   "source": [
    "from datasets import load_from_disk\n",
    "from tqdm import tqdm\n",
    "\n",
    "# Load the dataset from disk\n",
    "num_samples = 300\n",
    "subset = load_from_disk(\"/home/longnhat/workspace_phu/CopyMech/english_insertions\")\n",
    "prompt_list = []\n",
    "\n",
    "base_sents = subset['train']['base_sentence'][:num_samples]\n",
    "phrases = subset['train']['phrase'][:num_samples]\n",
    "edited_sents = subset['train']['edited_sentence'][:num_samples]\n",
    "\n",
    "import gc\n",
    "del subset\n",
    "gc.collect()"
   ]
  },
  {
   "cell_type": "code",
   "execution_count": 2,
   "metadata": {},
   "outputs": [],
   "source": [
    "def lcs_length(a_tokens, b_tokens):\n",
    "    \"\"\"\n",
    "    Returns the length of the Longest Common Subsequence (LCS)\n",
    "    between two lists of tokens a_tokens, b_tokens.\n",
    "    \"\"\"\n",
    "    len_a = len(a_tokens)\n",
    "    len_b = len(b_tokens)\n",
    "    # dp[i][j] will hold LCS length of a_tokens[:i], b_tokens[:j]\n",
    "    dp = [[0]*(len_b+1) for _ in range(len_a+1)]\n",
    "\n",
    "    for i in range(1, len_a+1):\n",
    "        for j in range(1, len_b+1):\n",
    "            if a_tokens[i-1] == b_tokens[j-1]:\n",
    "                dp[i][j] = dp[i-1][j-1] + 1\n",
    "            else:\n",
    "                dp[i][j] = max(dp[i-1][j], dp[i][j-1])\n",
    "    return dp[len_a][len_b]\n",
    "\n",
    "def compute_rouge_l(reference_str: str, candidate_str: str) -> float:\n",
    "    \"\"\"\n",
    "    Computes ROUGE-L (F-measure) for reference vs. candidate.\n",
    "    Returns a value between 0~1.\n",
    "    \"\"\"\n",
    "    ref_tokens = reference_str.split()\n",
    "    cand_tokens = candidate_str.split()\n",
    "\n",
    "    lcs = lcs_length(ref_tokens, cand_tokens)\n",
    "    m = len(ref_tokens)\n",
    "    n = len(cand_tokens)\n",
    "\n",
    "    if m == 0 or n == 0:\n",
    "        return 0.0\n",
    "\n",
    "    recall = lcs / m\n",
    "    precision = lcs / n\n",
    "    if recall+precision == 0:\n",
    "        return 0.0\n",
    "    f_score = 2 * recall * precision / (recall + precision)\n",
    "    return f_score"
   ]
  },
  {
   "cell_type": "code",
   "execution_count": 3,
   "metadata": {},
   "outputs": [
    {
     "name": "stderr",
     "output_type": "stream",
     "text": [
      "/home/longnhat/miniconda3/envs/icl_mi/lib/python3.10/site-packages/transformers/tokenization_utils_base.py:1601: FutureWarning: `clean_up_tokenization_spaces` was not set. It will be set to `True` by default. This behavior will be depracted in transformers v4.45, and will be then set to `False` by default. For more details check this issue: https://github.com/huggingface/transformers/issues/31884\n",
      "  warnings.warn(\n",
      "10it [00:07,  1.30it/s]You seem to be using the pipelines sequentially on GPU. In order to maximize efficiency please use a dataset\n",
      "300it [03:49,  1.31it/s]\n"
     ]
    }
   ],
   "source": [
    "from transformers import pipeline\n",
    "\n",
    "generator = pipeline('text-generation', model=\"facebook/opt-2.7b\", max_new_tokens = 50, device='cuda:0', return_full_text=False)\n",
    "tokenizer = generator.tokenizer\n",
    "\n",
    "needed_samples = []\n",
    "for base, phrase, edited in tqdm(zip(base_sents, phrases, edited_sents)):\n",
    "    prompt = f\"Base sentence: {base} Phrase: {phrase} Edited sentence: {edited} Inserted sentence:\"\n",
    "    pred = generator(prompt)[0]['generated_text']\n",
    "\n",
    "    encoded_edited = tokenizer(edited, return_tensors='pt').input_ids\n",
    "    encoded_pred = tokenizer(pred, return_tensors='pt').input_ids\n",
    "\n",
    "    # truncate the pred according to the length of the y + 2\n",
    "    encoded_pred = encoded_pred[:, :encoded_edited.shape[1]+1]\n",
    "    \n",
    "    # decode the tokens\n",
    "    pred = tokenizer.decode(encoded_pred[0], skip_special_tokens=True)\n",
    "\n",
    "    # compute the rouge-l score\n",
    "    rouge_l_score = compute_rouge_l(reference_str=edited, candidate_str=pred)\n",
    "    \n",
    "    if rouge_l_score > 0.8: \n",
    "        needed_samples.append({'base': base, 'phrase': phrase, 'edited': edited, 'pred': pred, 'rouge_l': rouge_l_score})"
   ]
  },
  {
   "cell_type": "code",
   "execution_count": 4,
   "metadata": {},
   "outputs": [],
   "source": [
    "# save list of dict\n",
    "import json\n",
    "with open('needed_samples.json', 'w') as f:\n",
    "    json.dump(needed_samples, f)"
   ]
  },
  {
   "cell_type": "code",
   "execution_count": 6,
   "metadata": {},
   "outputs": [
    {
     "data": {
      "text/plain": [
       "171"
      ]
     },
     "execution_count": 6,
     "metadata": {},
     "output_type": "execute_result"
    }
   ],
   "source": [
    "len(needed_samples)"
   ]
  }
 ],
 "metadata": {
  "kernelspec": {
   "display_name": "icl_mi",
   "language": "python",
   "name": "python3"
  },
  "language_info": {
   "codemirror_mode": {
    "name": "ipython",
    "version": 3
   },
   "file_extension": ".py",
   "mimetype": "text/x-python",
   "name": "python",
   "nbconvert_exporter": "python",
   "pygments_lexer": "ipython3",
   "version": "3.10.16"
  }
 },
 "nbformat": 4,
 "nbformat_minor": 2
}
